{
 "cells": [
  {
   "cell_type": "code",
   "execution_count": 1,
   "metadata": {},
   "outputs": [],
   "source": [
    "import requests\n",
    "import pandas as pd\n",
    "import numpy as np\n",
    "import plotly.express as px\n",
    "from tqdm import tqdm\n",
    "import backoff"
   ]
  },
  {
   "cell_type": "code",
   "execution_count": 2,
   "metadata": {},
   "outputs": [],
   "source": [
    "@backoff.on_exception(backoff.expo, requests.exceptions.RequestException, max_time=30)\n",
    "@backoff.on_predicate(backoff.expo, lambda x: x.status_code >= 429, max_time=30)\n",
    "def make_request(url, params=None, debug=False):\n",
    "    if debug:\n",
    "        print(url, params)\n",
    "    if params is None:\n",
    "        return requests.get(url)\n",
    "    else:\n",
    "        return requests.get(url, params=params)\n",
    "\n",
    "\n",
    "def paginate_openalex(url, params=None, per_page=200, debug=False):\n",
    "    if params is None:\n",
    "        params = {}\n",
    "    if \"per-page\" not in params and per_page:\n",
    "        params[\"per-page\"] = per_page\n",
    "    cursor = \"*\"\n",
    "    while cursor:\n",
    "        params[\"cursor\"] = cursor\n",
    "        r = make_request(url, params, debug=debug)\n",
    "        yield r\n",
    "\n",
    "        page_with_results = r.json()\n",
    "        # update cursor to meta.next_cursor\n",
    "        cursor = page_with_results[\"meta\"][\"next_cursor\"]\n",
    "\n"
   ]
  },
  {
   "cell_type": "code",
   "execution_count": 5,
   "metadata": {},
   "outputs": [],
   "source": [
    "r = requests.get(\"https://api.openalex.org/types\")\n",
    "work_types = [x['display_name'] for x in r.json()['results']]"
   ]
  },
  {
   "cell_type": "code",
   "execution_count": 7,
   "metadata": {},
   "outputs": [
    {
     "name": "stderr",
     "output_type": "stream",
     "text": [
      "100%|██████████| 18/18 [00:04<00:00,  4.41it/s]\n"
     ]
    }
   ],
   "source": [
    "url = \"https://api.openalex.org/works\"\n",
    "data = []\n",
    "for work_type in tqdm(work_types):\n",
    "    params = {\n",
    "        \"mailto\": \"jportenoy@ourresearch.org\",\n",
    "        \"filter\": f\"type:{work_type}\",\n",
    "        \"group_by\": \"primary_location.source.type\",\n",
    "    }\n",
    "    r = requests.get(url, params=params)\n",
    "    for item in r.json()[\"group_by\"]:\n",
    "        data.append({\n",
    "            \"work_type\": work_type,\n",
    "            \"source_type\": item[\"key\"],\n",
    "            \"source_type_display_name\": item[\"key_display_name\"],\n",
    "            \"works_count\": item[\"count\"],\n",
    "        })\n",
    "df = pd.DataFrame(data)"
   ]
  },
  {
   "cell_type": "code",
   "execution_count": 9,
   "metadata": {},
   "outputs": [],
   "source": [
    "df.to_clipboard(index=False)"
   ]
  },
  {
   "cell_type": "code",
   "execution_count": null,
   "metadata": {},
   "outputs": [],
   "source": []
  }
 ],
 "metadata": {
  "kernelspec": {
   "display_name": "venv",
   "language": "python",
   "name": "python3"
  },
  "language_info": {
   "codemirror_mode": {
    "name": "ipython",
    "version": 3
   },
   "file_extension": ".py",
   "mimetype": "text/x-python",
   "name": "python",
   "nbconvert_exporter": "python",
   "pygments_lexer": "ipython3",
   "version": "3.10.9"
  }
 },
 "nbformat": 4,
 "nbformat_minor": 2
}
