{
 "cells": [
  {
   "cell_type": "code",
   "execution_count": 2,
   "metadata": {},
   "outputs": [],
   "source": [
    "import requests"
   ]
  },
  {
   "cell_type": "code",
   "execution_count": 3,
   "metadata": {},
   "outputs": [],
   "source": [
    "import pandas as pd\n",
    "import matplotlib.pyplot as plt\n",
    "import seaborn as sns"
   ]
  },
  {
   "cell_type": "code",
   "execution_count": 4,
   "metadata": {},
   "outputs": [],
   "source": [
    "df_paper_authors = pd.read_csv('../data/author benchmarks - paper_authors.csv')"
   ]
  },
  {
   "cell_type": "code",
   "execution_count": 6,
   "metadata": {},
   "outputs": [
    {
     "data": {
      "text/plain": [
       "2651"
      ]
     },
     "execution_count": 6,
     "metadata": {},
     "output_type": "execute_result"
    }
   ],
   "source": [
    "df_paper_authors.doi.notna().sum()"
   ]
  },
  {
   "cell_type": "code",
   "execution_count": 7,
   "metadata": {},
   "outputs": [
    {
     "name": "stdout",
     "output_type": "stream",
     "text": [
      "collected 2359 works using 48 api calls\n"
     ]
    }
   ],
   "source": [
    "dois = df_paper_authors['doi'].dropna().unique()\n",
    "\n",
    "endpoint = \"works\"\n",
    "size = 50\n",
    "loop_index = 0\n",
    "works = []\n",
    "for list_index in range(0, len(dois), size):\n",
    "    subset = dois[list_index:list_index+size]\n",
    "    pipe_separated_ids = \"|\".join(subset)\n",
    "    r = requests.get(f\"https://api.openalex.org/{endpoint}?filter=doi:{pipe_separated_ids}&per-page={size}\")\n",
    "    results = r.json()['results']\n",
    "    works.extend(results)\n",
    "    loop_index += 1\n",
    "print(f\"collected {len(works)} works using {loop_index} api calls\")"
   ]
  },
  {
   "cell_type": "code",
   "execution_count": 8,
   "metadata": {},
   "outputs": [],
   "source": [
    "data = []\n",
    "for work in works:\n",
    "    doi = work['doi'].replace('https://doi.org/', '')\n",
    "    authors = []\n",
    "    for position, authorship in enumerate(work['authorships']):\n",
    "        author_name = authorship['author']['display_name']\n",
    "        author_id = authorship['author']['id'].replace('https://openalex.org/', '')\n",
    "        authors.append( (position, author_name, author_id) )\n",
    "    data.append({\n",
    "        'doi': doi,\n",
    "        'authors': authors,\n",
    "    })\n",
    "openalex_author_info = pd.DataFrame(data)"
   ]
  },
  {
   "cell_type": "code",
   "execution_count": 9,
   "metadata": {},
   "outputs": [],
   "source": [
    "df_paper_authors = df_paper_authors.merge(openalex_author_info, how='left', on='doi')"
   ]
  },
  {
   "cell_type": "code",
   "execution_count": null,
   "metadata": {},
   "outputs": [],
   "source": []
  },
  {
   "cell_type": "code",
   "execution_count": 11,
   "metadata": {},
   "outputs": [],
   "source": [
    "df_paper_authors.to_csv('../data/scopus_paper_authors_with_openalex_author_info.csv')"
   ]
  },
  {
   "cell_type": "code",
   "execution_count": null,
   "metadata": {},
   "outputs": [],
   "source": []
  }
 ],
 "metadata": {
  "kernelspec": {
   "display_name": "venv",
   "language": "python",
   "name": "python3"
  },
  "language_info": {
   "codemirror_mode": {
    "name": "ipython",
    "version": 3
   },
   "file_extension": ".py",
   "mimetype": "text/x-python",
   "name": "python",
   "nbconvert_exporter": "python",
   "pygments_lexer": "ipython3",
   "version": "3.10.9"
  },
  "orig_nbformat": 4
 },
 "nbformat": 4,
 "nbformat_minor": 2
}
