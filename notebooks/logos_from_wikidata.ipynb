{
 "cells": [
  {
   "cell_type": "code",
   "execution_count": 1,
   "metadata": {},
   "outputs": [],
   "source": [
    "import requests\n",
    "import time"
   ]
  },
  {
   "cell_type": "code",
   "execution_count": 2,
   "metadata": {},
   "outputs": [],
   "source": [
    "import pandas as pd\n",
    "import numpy as np"
   ]
  },
  {
   "attachments": {},
   "cell_type": "markdown",
   "metadata": {},
   "source": [
    "## Get wikidata IDs for publishers"
   ]
  },
  {
   "cell_type": "code",
   "execution_count": 3,
   "metadata": {},
   "outputs": [],
   "source": [
    "email = \"jportenoy@ourresearch.org\""
   ]
  },
  {
   "cell_type": "code",
   "execution_count": 4,
   "metadata": {},
   "outputs": [
    {
     "name": "stdout",
     "output_type": "stream",
     "text": [
      "meta count property is 7910\n",
      "5 api requests made so far\n",
      "10 api requests made so far\n",
      "20 api requests made so far\n",
      "50 api requests made so far\n",
      "100 api requests made so far\n",
      "done. made 318 api requests. collected 7910 works\n"
     ]
    }
   ],
   "source": [
    "cursor = '*'\n",
    "\n",
    "select = \",\".join((\n",
    "    'ids',\n",
    "))\n",
    "\n",
    "endpoint = \"publishers\"\n",
    "\n",
    "# loop through pages\n",
    "publisher_ids = []\n",
    "loop_index = 0\n",
    "while cursor:\n",
    "    \n",
    "    # set cursor value and request page from OpenAlex\n",
    "    url = f'https://api.openalex.org/{endpoint}?select={select}&cursor={cursor}'\n",
    "    if email:\n",
    "        url += f'&mailto={email}'\n",
    "    r = requests.get(url)\n",
    "    page_with_results = r.json()\n",
    "    if loop_index == 0:\n",
    "        print(f\"meta count property is {page_with_results['meta']['count']}\")\n",
    "    \n",
    "    results = page_with_results['results']\n",
    "    publisher_ids.extend(results)\n",
    "\n",
    "    # update cursor to meta.next_cursor\n",
    "    cursor = page_with_results['meta']['next_cursor']\n",
    "    loop_index += 1\n",
    "    if loop_index in [5, 10, 20, 50, 100] or loop_index % 500 == 0:\n",
    "        print(f'{loop_index} api requests made so far')\n",
    "print(f'done. made {loop_index} api requests. collected {len(publisher_ids)} works')"
   ]
  },
  {
   "cell_type": "code",
   "execution_count": 6,
   "metadata": {},
   "outputs": [],
   "source": [
    "data = []\n",
    "for item in publisher_ids:\n",
    "    data.append({\n",
    "        'openalex_id': item['ids']['openalex'],\n",
    "        'wikidata_id': item['ids'].get('wikidata', None),\n",
    "    })\n",
    "df_publishers_wikidata_ids = pd.DataFrame(data)"
   ]
  },
  {
   "cell_type": "code",
   "execution_count": 7,
   "metadata": {},
   "outputs": [
    {
     "data": {
      "text/plain": [
       "False    7580\n",
       "True      330\n",
       "Name: wikidata_id, dtype: int64"
      ]
     },
     "execution_count": 7,
     "metadata": {},
     "output_type": "execute_result"
    }
   ],
   "source": [
    "df_publishers_wikidata_ids['wikidata_id'].isna().value_counts().sort_index()"
   ]
  },
  {
   "cell_type": "code",
   "execution_count": 8,
   "metadata": {},
   "outputs": [
    {
     "name": "stdout",
     "output_type": "stream",
     "text": [
      "collected 7746 records using 16 api calls\n"
     ]
    }
   ],
   "source": [
    "url = 'https://query.wikidata.org/sparql'\n",
    "wikidata_ids = df_publishers_wikidata_ids['wikidata_id'].dropna().apply(lambda x: x.split('/')[-1])\n",
    "size = 500\n",
    "loop_index = 0\n",
    "wikidata_results = []\n",
    "for list_index in range(0, len(wikidata_ids), size):\n",
    "    subset = wikidata_ids.iloc[list_index:list_index+size]\n",
    "    wikidata_ids_str = \" \".join([f\"wd:{item}\" for item in subset.values])\n",
    "    query = f\"\"\"\n",
    "    SELECT ?item ?logoImage ?image WHERE {{\n",
    "      VALUES ?item {{ {wikidata_ids_str} }}\n",
    "      OPTIONAL {{?item wdt:P154 ?logoImage}}\n",
    "      OPTIONAL {{?item wdt:P18 ?image}}\n",
    "    }}\n",
    "    \"\"\"\n",
    "    r = requests.get(url, params = {'format': 'json', 'query': query})\n",
    "    this_wikidata_results = r.json()\n",
    "    wikidata_results.extend(this_wikidata_results['results']['bindings'])\n",
    "    loop_index += 1\n",
    "    time.sleep(1)\n",
    "print(f\"collected {len(wikidata_results)} records using {loop_index} api calls\")"
   ]
  },
  {
   "cell_type": "code",
   "execution_count": 61,
   "metadata": {},
   "outputs": [],
   "source": [
    "data = []\n",
    "for item in wikidata_results:\n",
    "    logo_image = item['logoImage']['value'] if 'logoImage' in item else None\n",
    "    image = item['image']['value'] if 'image' in item else None\n",
    "    data.append({\n",
    "        'wikidata_id': item['item']['value'],\n",
    "        'logoImageUri': logo_image,\n",
    "        'imageUri': image,\n",
    "    })\n",
    "df_publishers_wikidata_images = pd.DataFrame(data).drop_duplicates()"
   ]
  },
  {
   "cell_type": "code",
   "execution_count": 62,
   "metadata": {},
   "outputs": [],
   "source": [
    "df_publishers_wikidata_images['wikidata_id'] = df_publishers_wikidata_images['wikidata_id'].str.replace('http://', 'https://')"
   ]
  },
  {
   "cell_type": "code",
   "execution_count": 63,
   "metadata": {},
   "outputs": [],
   "source": [
    "df = df_publishers_wikidata_ids.merge(df_publishers_wikidata_images, how='left', on='wikidata_id')"
   ]
  },
  {
   "cell_type": "code",
   "execution_count": 64,
   "metadata": {},
   "outputs": [
    {
     "data": {
      "text/plain": [
       "False    6885\n",
       "True     1187\n",
       "Name: logoImageUri, dtype: int64"
      ]
     },
     "execution_count": 64,
     "metadata": {},
     "output_type": "execute_result"
    }
   ],
   "source": [
    "df['logoImageUri'].notna().value_counts().sort_index()"
   ]
  },
  {
   "cell_type": "code",
   "execution_count": 65,
   "metadata": {},
   "outputs": [
    {
     "data": {
      "text/plain": [
       "False    6024\n",
       "True     2048\n",
       "Name: imageUri, dtype: int64"
      ]
     },
     "execution_count": 65,
     "metadata": {},
     "output_type": "execute_result"
    }
   ],
   "source": [
    "df['imageUri'].notna().value_counts().sort_index()"
   ]
  },
  {
   "cell_type": "code",
   "execution_count": 66,
   "metadata": {},
   "outputs": [
    {
     "data": {
      "text/plain": [
       "0         https://www.wikidata.org/entity/Q998470\n",
       "12        https://www.wikidata.org/entity/Q912887\n",
       "16        https://www.wikidata.org/entity/Q247556\n",
       "24       https://www.wikidata.org/entity/Q2420769\n",
       "34       https://www.wikidata.org/entity/Q1508259\n",
       "                          ...                    \n",
       "7924     https://www.wikidata.org/entity/Q5542217\n",
       "7927     https://www.wikidata.org/entity/Q9170880\n",
       "7928     https://www.wikidata.org/entity/Q9379713\n",
       "7932    https://www.wikidata.org/entity/Q18391894\n",
       "7940     https://www.wikidata.org/entity/Q2370088\n",
       "Name: wikidata_id, Length: 1248, dtype: object"
      ]
     },
     "execution_count": 66,
     "metadata": {},
     "output_type": "execute_result"
    }
   ],
   "source": [
    "df[(df['logoImageUri'].isna())&df['imageUri'].notna()]['wikidata_id']"
   ]
  },
  {
   "cell_type": "code",
   "execution_count": 67,
   "metadata": {},
   "outputs": [
    {
     "data": {
      "text/plain": [
       "'http://commons.wikimedia.org/wiki/Special:FilePath/Reed%20Elsevier%2C%20Radarweg%2029%20Amsterdam.jpg'"
      ]
     },
     "execution_count": 67,
     "metadata": {},
     "output_type": "execute_result"
    }
   ],
   "source": [
    "df.iloc[0]['imageUri']"
   ]
  },
  {
   "attachments": {},
   "cell_type": "markdown",
   "metadata": {},
   "source": [
    "Instructions on https://commons.wikimedia.org/wiki/Commons:Reusing_content_outside_Wikimedia/technical"
   ]
  },
  {
   "cell_type": "code",
   "execution_count": 68,
   "metadata": {},
   "outputs": [],
   "source": [
    "url_thumbnail_template = \"https://commons.wikimedia.org/w/index.php?title=Special:Redirect/file/{filename}&width=300\""
   ]
  },
  {
   "cell_type": "code",
   "execution_count": 89,
   "metadata": {},
   "outputs": [],
   "source": [
    "data = []\n",
    "for _, row in df.dropna(subset='wikidata_id').iterrows():\n",
    "    if not pd.isna(row['logoImageUri']):\n",
    "        img_uri = row['logoImageUri']\n",
    "        wikidata_prop = 'logo image'\n",
    "    elif not pd.isna(row['imageUri']):\n",
    "        img_uri = row['imageUri']\n",
    "        wikidata_prop = 'image'\n",
    "    else:\n",
    "        img_uri = None\n",
    "        wikidata_prop = None\n",
    "    if img_uri:\n",
    "        img_uri = img_uri.split('/')[-1]\n",
    "        img_uri = url_thumbnail_template.format(filename=img_uri)\n",
    "        data.append({\n",
    "            'openalex_id': row['openalex_id'],\n",
    "            'wikidata_id': row['wikidata_id'],\n",
    "            'thumbnail_url': img_uri,\n",
    "            'wikidata_prop': wikidata_prop,\n",
    "        })\n",
    "df_out = pd.DataFrame(data).drop_duplicates()"
   ]
  },
  {
   "cell_type": "code",
   "execution_count": 1,
   "metadata": {},
   "outputs": [
    {
     "ename": "NameError",
     "evalue": "name 'df_out' is not defined",
     "output_type": "error",
     "traceback": [
      "\u001b[0;31m---------------------------------------------------------------------------\u001b[0m",
      "\u001b[0;31mNameError\u001b[0m                                 Traceback (most recent call last)",
      "Cell \u001b[0;32mIn[1], line 1\u001b[0m\n\u001b[0;32m----> 1\u001b[0m df_out\u001b[39m.\u001b[39mto_csv(\u001b[39m'\u001b[39m\u001b[39m../output/publishers_image_thumbnail_urls.csv\u001b[39m\u001b[39m'\u001b[39m, index\u001b[39m=\u001b[39m\u001b[39mFalse\u001b[39;00m)\n",
      "\u001b[0;31mNameError\u001b[0m: name 'df_out' is not defined"
     ]
    }
   ],
   "source": [
    "df_out.to_csv('../output/publishers_image_thumbnail_urls.csv', index=False)"
   ]
  },
  {
   "cell_type": "code",
   "execution_count": null,
   "metadata": {},
   "outputs": [],
   "source": []
  },
  {
   "cell_type": "code",
   "execution_count": null,
   "metadata": {},
   "outputs": [],
   "source": []
  },
  {
   "cell_type": "code",
   "execution_count": null,
   "metadata": {},
   "outputs": [],
   "source": []
  },
  {
   "cell_type": "code",
   "execution_count": 4,
   "metadata": {},
   "outputs": [],
   "source": [
    "df_out = pd.read_csv('../output/publishers_image_thumbnail_urls.csv')"
   ]
  },
  {
   "cell_type": "code",
   "execution_count": 6,
   "metadata": {},
   "outputs": [],
   "source": [
    "df_out['image_url'] = df_out['thumbnail_url'].str.replace(\"&width=300\", \"\")"
   ]
  },
  {
   "cell_type": "code",
   "execution_count": 8,
   "metadata": {},
   "outputs": [],
   "source": [
    "df_out.to_csv('../output/publishers_image_thumbnail_urls.csv', index=False)"
   ]
  },
  {
   "cell_type": "code",
   "execution_count": null,
   "metadata": {},
   "outputs": [],
   "source": []
  },
  {
   "attachments": {},
   "cell_type": "markdown",
   "metadata": {},
   "source": [
    "## Get wikidata IDs for sources"
   ]
  },
  {
   "cell_type": "code",
   "execution_count": 22,
   "metadata": {},
   "outputs": [],
   "source": [
    "email = \"jportenoy@ourresearch.org\""
   ]
  },
  {
   "cell_type": "code",
   "execution_count": 26,
   "metadata": {},
   "outputs": [
    {
     "name": "stdout",
     "output_type": "stream",
     "text": [
      "meta count property is 226413\n",
      "5 api requests made so far\n",
      "10 api requests made so far\n",
      "20 api requests made so far\n",
      "50 api requests made so far\n",
      "100 api requests made so far\n",
      "500 api requests made so far\n",
      "1000 api requests made so far\n",
      "1500 api requests made so far\n",
      "2000 api requests made so far\n",
      "2500 api requests made so far\n",
      "3000 api requests made so far\n",
      "3500 api requests made so far\n",
      "4000 api requests made so far\n",
      "4500 api requests made so far\n",
      "5000 api requests made so far\n",
      "5500 api requests made so far\n",
      "6000 api requests made so far\n",
      "6500 api requests made so far\n",
      "7000 api requests made so far\n",
      "7500 api requests made so far\n",
      "8000 api requests made so far\n",
      "8500 api requests made so far\n",
      "9000 api requests made so far\n",
      "done. made 9058 api requests. collected 226413 sources\n"
     ]
    }
   ],
   "source": [
    "cursor = '*'\n",
    "\n",
    "select = \",\".join((\n",
    "    'ids',\n",
    "))\n",
    "\n",
    "endpoint = \"sources\"\n",
    "\n",
    "# loop through pages\n",
    "source_ids = []\n",
    "loop_index = 0\n",
    "while cursor:\n",
    "    \n",
    "    # set cursor value and request page from OpenAlex\n",
    "    url = f'https://api.openalex.org/{endpoint}?select={select}&cursor={cursor}'\n",
    "    if email:\n",
    "        url += f'&mailto={email}'\n",
    "    r = requests.get(url)\n",
    "    page_with_results = r.json()\n",
    "    if loop_index == 0:\n",
    "        print(f\"meta count property is {page_with_results['meta']['count']}\")\n",
    "    \n",
    "    results = page_with_results['results']\n",
    "    source_ids.extend(results)\n",
    "\n",
    "    # update cursor to meta.next_cursor\n",
    "    cursor = page_with_results['meta']['next_cursor']\n",
    "    loop_index += 1\n",
    "    if loop_index in [5, 10, 20, 50, 100] or loop_index % 500 == 0:\n",
    "        print(f'{loop_index} api requests made so far')\n",
    "print(f'done. made {loop_index} api requests. collected {len(source_ids)} {endpoint}')"
   ]
  },
  {
   "cell_type": "code",
   "execution_count": 27,
   "metadata": {},
   "outputs": [],
   "source": [
    "data = []\n",
    "for item in source_ids:\n",
    "    data.append({\n",
    "        'openalex_id': item['ids']['openalex'],\n",
    "        'wikidata_id': item['ids'].get('wikidata', None),\n",
    "    })\n",
    "df_sources_wikidata_ids = pd.DataFrame(data)"
   ]
  },
  {
   "cell_type": "code",
   "execution_count": 28,
   "metadata": {},
   "outputs": [
    {
     "data": {
      "text/plain": [
       "False     55873\n",
       "True     170540\n",
       "Name: wikidata_id, dtype: int64"
      ]
     },
     "execution_count": 28,
     "metadata": {},
     "output_type": "execute_result"
    }
   ],
   "source": [
    "df_sources_wikidata_ids['wikidata_id'].isna().value_counts().sort_index()"
   ]
  },
  {
   "cell_type": "code",
   "execution_count": 29,
   "metadata": {},
   "outputs": [
    {
     "name": "stdout",
     "output_type": "stream",
     "text": [
      "collected 55884 records using 187 api calls\n"
     ]
    }
   ],
   "source": [
    "url = 'https://query.wikidata.org/sparql'\n",
    "wikidata_ids = df_sources_wikidata_ids['wikidata_id'].dropna().apply(lambda x: x.split('/')[-1])\n",
    "size = 300\n",
    "loop_index = 0\n",
    "wikidata_results = []\n",
    "for list_index in range(0, len(wikidata_ids), size):\n",
    "    subset = wikidata_ids.iloc[list_index:list_index+size]\n",
    "    wikidata_ids_str = \" \".join([f\"wd:{item}\" for item in subset.values])\n",
    "    query = f\"\"\"\n",
    "    SELECT ?item ?logoImage ?image WHERE {{\n",
    "      VALUES ?item {{ {wikidata_ids_str} }}\n",
    "      OPTIONAL {{?item wdt:P154 ?logoImage}}\n",
    "      OPTIONAL {{?item wdt:P18 ?image}}\n",
    "    }}\n",
    "    \"\"\"\n",
    "    r = requests.get(url, params = {'format': 'json', 'query': query})\n",
    "    this_wikidata_results = r.json()\n",
    "    wikidata_results.extend(this_wikidata_results['results']['bindings'])\n",
    "    loop_index += 1\n",
    "    time.sleep(1)\n",
    "print(f\"collected {len(wikidata_results)} records using {loop_index} api calls\")"
   ]
  },
  {
   "cell_type": "code",
   "execution_count": 30,
   "metadata": {},
   "outputs": [],
   "source": [
    "data = []\n",
    "for item in wikidata_results:\n",
    "    logo_image = item['logoImage']['value'] if 'logoImage' in item else None\n",
    "    image = item['image']['value'] if 'image' in item else None\n",
    "    data.append({\n",
    "        'wikidata_id': item['item']['value'],\n",
    "        'logoImageUri': logo_image,\n",
    "        'imageUri': image,\n",
    "    })\n",
    "df_sources_wikidata_images = pd.DataFrame(data).drop_duplicates()"
   ]
  },
  {
   "cell_type": "code",
   "execution_count": 31,
   "metadata": {},
   "outputs": [],
   "source": [
    "df_sources_wikidata_images['wikidata_id'] = df_sources_wikidata_images['wikidata_id'].str.replace('http://', 'https://')"
   ]
  },
  {
   "cell_type": "code",
   "execution_count": 32,
   "metadata": {},
   "outputs": [],
   "source": [
    "df_sources_wikidata_ids['wikidata_uid'] = df_sources_wikidata_ids['wikidata_id'].apply(lambda x: x.split('/')[-1] if x is not None else None)\n",
    "df_sources_wikidata_images['wikidata_uid'] = df_sources_wikidata_images['wikidata_id'].apply(lambda x: x.split('/')[-1] if x is not None else None)"
   ]
  },
  {
   "cell_type": "code",
   "execution_count": 33,
   "metadata": {},
   "outputs": [],
   "source": [
    "df = df_sources_wikidata_ids.merge(df_sources_wikidata_images, how='left', on='wikidata_uid')"
   ]
  },
  {
   "cell_type": "code",
   "execution_count": 25,
   "metadata": {},
   "outputs": [
    {
     "data": {
      "text/plain": [
       "False    98329\n",
       "True      4936\n",
       "Name: logoImageUri, dtype: int64"
      ]
     },
     "execution_count": 25,
     "metadata": {},
     "output_type": "execute_result"
    }
   ],
   "source": [
    "df['logoImageUri'].notna().value_counts().sort_index()"
   ]
  },
  {
   "cell_type": "code",
   "execution_count": 24,
   "metadata": {},
   "outputs": [
    {
     "data": {
      "text/plain": [
       "False    93661\n",
       "True      9604\n",
       "Name: imageUri, dtype: int64"
      ]
     },
     "execution_count": 24,
     "metadata": {},
     "output_type": "execute_result"
    }
   ],
   "source": [
    "df['imageUri'].notna().value_counts().sort_index()"
   ]
  },
  {
   "cell_type": "code",
   "execution_count": 89,
   "metadata": {},
   "outputs": [
    {
     "data": {
      "text/plain": [
       "True     170540\n",
       "False     55873\n",
       "Name: wikidata_id, dtype: int64"
      ]
     },
     "execution_count": 89,
     "metadata": {},
     "output_type": "execute_result"
    }
   ],
   "source": [
    "df_sources_wikidata_ids['wikidata_id'].isna().value_counts()"
   ]
  },
  {
   "cell_type": "code",
   "execution_count": 87,
   "metadata": {},
   "outputs": [
    {
     "data": {
      "text/plain": [
       "False    170540\n",
       "True      55884\n",
       "Name: wikidata_id_y, dtype: int64"
      ]
     },
     "execution_count": 87,
     "metadata": {},
     "output_type": "execute_result"
    }
   ],
   "source": [
    "df['wikidata_id_y'].notna().value_counts()"
   ]
  },
  {
   "cell_type": "code",
   "execution_count": 90,
   "metadata": {},
   "outputs": [
    {
     "data": {
      "text/plain": [
       "False      2\n",
       "True     264\n",
       "Name: imageUri, dtype: int64"
      ]
     },
     "execution_count": 90,
     "metadata": {},
     "output_type": "execute_result"
    }
   ],
   "source": [
    "df['imageUri'].drop_duplicates().notna().value_counts().sort_index()"
   ]
  },
  {
   "cell_type": "code",
   "execution_count": 82,
   "metadata": {},
   "outputs": [
    {
     "ename": "KeyError",
     "evalue": "'wikidata_id'",
     "output_type": "error",
     "traceback": [
      "\u001b[0;31m---------------------------------------------------------------------------\u001b[0m",
      "\u001b[0;31mKeyError\u001b[0m                                  Traceback (most recent call last)",
      "File \u001b[0;32m~/code/ourresearch/openalex-sandbox/venv/lib/python3.9/site-packages/pandas/core/indexes/base.py:3802\u001b[0m, in \u001b[0;36mIndex.get_loc\u001b[0;34m(self, key, method, tolerance)\u001b[0m\n\u001b[1;32m   3801\u001b[0m \u001b[39mtry\u001b[39;00m:\n\u001b[0;32m-> 3802\u001b[0m     \u001b[39mreturn\u001b[39;00m \u001b[39mself\u001b[39;49m\u001b[39m.\u001b[39;49m_engine\u001b[39m.\u001b[39;49mget_loc(casted_key)\n\u001b[1;32m   3803\u001b[0m \u001b[39mexcept\u001b[39;00m \u001b[39mKeyError\u001b[39;00m \u001b[39mas\u001b[39;00m err:\n",
      "File \u001b[0;32m~/code/ourresearch/openalex-sandbox/venv/lib/python3.9/site-packages/pandas/_libs/index.pyx:138\u001b[0m, in \u001b[0;36mpandas._libs.index.IndexEngine.get_loc\u001b[0;34m()\u001b[0m\n",
      "File \u001b[0;32m~/code/ourresearch/openalex-sandbox/venv/lib/python3.9/site-packages/pandas/_libs/index.pyx:165\u001b[0m, in \u001b[0;36mpandas._libs.index.IndexEngine.get_loc\u001b[0;34m()\u001b[0m\n",
      "File \u001b[0;32mpandas/_libs/hashtable_class_helper.pxi:5745\u001b[0m, in \u001b[0;36mpandas._libs.hashtable.PyObjectHashTable.get_item\u001b[0;34m()\u001b[0m\n",
      "File \u001b[0;32mpandas/_libs/hashtable_class_helper.pxi:5753\u001b[0m, in \u001b[0;36mpandas._libs.hashtable.PyObjectHashTable.get_item\u001b[0;34m()\u001b[0m\n",
      "\u001b[0;31mKeyError\u001b[0m: 'wikidata_id'",
      "\nThe above exception was the direct cause of the following exception:\n",
      "\u001b[0;31mKeyError\u001b[0m                                  Traceback (most recent call last)",
      "Cell \u001b[0;32mIn[82], line 1\u001b[0m\n\u001b[0;32m----> 1\u001b[0m df[(df[\u001b[39m'\u001b[39;49m\u001b[39mlogoImageUri\u001b[39;49m\u001b[39m'\u001b[39;49m]\u001b[39m.\u001b[39;49misna())\u001b[39m&\u001b[39;49mdf[\u001b[39m'\u001b[39;49m\u001b[39mimageUri\u001b[39;49m\u001b[39m'\u001b[39;49m]\u001b[39m.\u001b[39;49mnotna()][\u001b[39m'\u001b[39;49m\u001b[39mwikidata_id\u001b[39;49m\u001b[39m'\u001b[39;49m]\n",
      "File \u001b[0;32m~/code/ourresearch/openalex-sandbox/venv/lib/python3.9/site-packages/pandas/core/frame.py:3807\u001b[0m, in \u001b[0;36mDataFrame.__getitem__\u001b[0;34m(self, key)\u001b[0m\n\u001b[1;32m   3805\u001b[0m \u001b[39mif\u001b[39;00m \u001b[39mself\u001b[39m\u001b[39m.\u001b[39mcolumns\u001b[39m.\u001b[39mnlevels \u001b[39m>\u001b[39m \u001b[39m1\u001b[39m:\n\u001b[1;32m   3806\u001b[0m     \u001b[39mreturn\u001b[39;00m \u001b[39mself\u001b[39m\u001b[39m.\u001b[39m_getitem_multilevel(key)\n\u001b[0;32m-> 3807\u001b[0m indexer \u001b[39m=\u001b[39m \u001b[39mself\u001b[39;49m\u001b[39m.\u001b[39;49mcolumns\u001b[39m.\u001b[39;49mget_loc(key)\n\u001b[1;32m   3808\u001b[0m \u001b[39mif\u001b[39;00m is_integer(indexer):\n\u001b[1;32m   3809\u001b[0m     indexer \u001b[39m=\u001b[39m [indexer]\n",
      "File \u001b[0;32m~/code/ourresearch/openalex-sandbox/venv/lib/python3.9/site-packages/pandas/core/indexes/base.py:3804\u001b[0m, in \u001b[0;36mIndex.get_loc\u001b[0;34m(self, key, method, tolerance)\u001b[0m\n\u001b[1;32m   3802\u001b[0m     \u001b[39mreturn\u001b[39;00m \u001b[39mself\u001b[39m\u001b[39m.\u001b[39m_engine\u001b[39m.\u001b[39mget_loc(casted_key)\n\u001b[1;32m   3803\u001b[0m \u001b[39mexcept\u001b[39;00m \u001b[39mKeyError\u001b[39;00m \u001b[39mas\u001b[39;00m err:\n\u001b[0;32m-> 3804\u001b[0m     \u001b[39mraise\u001b[39;00m \u001b[39mKeyError\u001b[39;00m(key) \u001b[39mfrom\u001b[39;00m \u001b[39merr\u001b[39;00m\n\u001b[1;32m   3805\u001b[0m \u001b[39mexcept\u001b[39;00m \u001b[39mTypeError\u001b[39;00m:\n\u001b[1;32m   3806\u001b[0m     \u001b[39m# If we have a listlike key, _check_indexing_error will raise\u001b[39;00m\n\u001b[1;32m   3807\u001b[0m     \u001b[39m#  InvalidIndexError. Otherwise we fall through and re-raise\u001b[39;00m\n\u001b[1;32m   3808\u001b[0m     \u001b[39m#  the TypeError.\u001b[39;00m\n\u001b[1;32m   3809\u001b[0m     \u001b[39mself\u001b[39m\u001b[39m.\u001b[39m_check_indexing_error(key)\n",
      "\u001b[0;31mKeyError\u001b[0m: 'wikidata_id'"
     ]
    }
   ],
   "source": [
    "df[(df['logoImageUri'].isna())&df['imageUri'].notna()]['wikidata_id']"
   ]
  },
  {
   "cell_type": "code",
   "execution_count": null,
   "metadata": {},
   "outputs": [
    {
     "data": {
      "text/plain": [
       "nan"
      ]
     },
     "metadata": {},
     "output_type": "display_data"
    }
   ],
   "source": [
    "df.iloc[0]['imageUri']"
   ]
  },
  {
   "cell_type": "markdown",
   "metadata": {},
   "source": [
    "Instructions on https://commons.wikimedia.org/wiki/Commons:Reusing_content_outside_Wikimedia/technical"
   ]
  },
  {
   "cell_type": "code",
   "execution_count": null,
   "metadata": {},
   "outputs": [],
   "source": [
    "url_image_template = \"https://commons.wikimedia.org/w/index.php?title=Special:Redirect/file/{filename}\"\n",
    "url_thumbnail_template = url_image_template + \"&width=300\""
   ]
  },
  {
   "cell_type": "code",
   "execution_count": null,
   "metadata": {},
   "outputs": [],
   "source": [
    "data = []\n",
    "for _, row in df.dropna(subset='wikidata_id').iterrows():\n",
    "    if not pd.isna(row['logoImageUri']):\n",
    "        img_uri = row['logoImageUri']\n",
    "        wikidata_prop = 'logo image'\n",
    "    elif not pd.isna(row['imageUri']):\n",
    "        img_uri = row['imageUri']\n",
    "        wikidata_prop = 'image'\n",
    "    else:\n",
    "        img_uri = None\n",
    "        wikidata_prop = None\n",
    "    if img_uri:\n",
    "        img_uri = img_uri.split('/')[-1]\n",
    "        img_hotlink = url_image_template.format(filename=img_uri)\n",
    "        img_thumbnail_hotlink = url_thumbnail_template.format(filename=img_uri)\n",
    "        data.append({\n",
    "            'openalex_id': row['openalex_id'],\n",
    "            'wikidata_id': row['wikidata_id'],\n",
    "            'image_url': img_hotlink,\n",
    "            'thumbnail_url': img_thumbnail_hotlink,\n",
    "            'wikidata_prop': wikidata_prop,\n",
    "        })\n",
    "df_out = pd.DataFrame(data).drop_duplicates()"
   ]
  },
  {
   "cell_type": "code",
   "execution_count": null,
   "metadata": {},
   "outputs": [],
   "source": [
    "df_out.to_csv('../output/sources_image_urls.csv', index=False)"
   ]
  },
  {
   "cell_type": "code",
   "execution_count": null,
   "metadata": {},
   "outputs": [],
   "source": []
  },
  {
   "cell_type": "code",
   "execution_count": null,
   "metadata": {},
   "outputs": [],
   "source": []
  },
  {
   "attachments": {},
   "cell_type": "markdown",
   "metadata": {},
   "source": [
    "## Get wikidata IDs for institutions"
   ]
  },
  {
   "cell_type": "code",
   "execution_count": 3,
   "metadata": {},
   "outputs": [],
   "source": [
    "email = \"jportenoy@ourresearch.org\""
   ]
  },
  {
   "cell_type": "code",
   "execution_count": 4,
   "metadata": {},
   "outputs": [
    {
     "name": "stdout",
     "output_type": "stream",
     "text": [
      "meta count property is 102565\n",
      "5 api requests made so far\n",
      "10 api requests made so far\n",
      "20 api requests made so far\n",
      "50 api requests made so far\n",
      "100 api requests made so far\n",
      "500 api requests made so far\n",
      "1000 api requests made so far\n",
      "1500 api requests made so far\n",
      "2000 api requests made so far\n",
      "2500 api requests made so far\n",
      "3000 api requests made so far\n",
      "3500 api requests made so far\n",
      "4000 api requests made so far\n",
      "done. made 4104 api requests. collected 102565 institutions\n"
     ]
    }
   ],
   "source": [
    "cursor = '*'\n",
    "\n",
    "select = \",\".join((\n",
    "    'ids',\n",
    "    'image_url',\n",
    "    'image_thumbnail_url',\n",
    "))\n",
    "\n",
    "endpoint = \"institutions\"\n",
    "\n",
    "# loop through pages\n",
    "institution_ids = []\n",
    "loop_index = 0\n",
    "while cursor:\n",
    "    \n",
    "    # set cursor value and request page from OpenAlex\n",
    "    url = f'https://api.openalex.org/{endpoint}?select={select}&cursor={cursor}'\n",
    "    if email:\n",
    "        url += f'&mailto={email}'\n",
    "    r = requests.get(url)\n",
    "    page_with_results = r.json()\n",
    "    if loop_index == 0:\n",
    "        print(f\"meta count property is {page_with_results['meta']['count']}\")\n",
    "    \n",
    "    results = page_with_results['results']\n",
    "    institution_ids.extend(results)\n",
    "\n",
    "    # update cursor to meta.next_cursor\n",
    "    cursor = page_with_results['meta']['next_cursor']\n",
    "    loop_index += 1\n",
    "    if loop_index in [5, 10, 20, 50, 100] or loop_index % 500 == 0:\n",
    "        print(f'{loop_index} api requests made so far')\n",
    "print(f'done. made {loop_index} api requests. collected {len(institution_ids)} {endpoint}')"
   ]
  },
  {
   "cell_type": "code",
   "execution_count": 5,
   "metadata": {},
   "outputs": [],
   "source": [
    "data = []\n",
    "for item in institution_ids:\n",
    "    data.append({\n",
    "        'openalex_id': item['ids']['openalex'],\n",
    "        'wikidata_id': item['ids'].get('wikidata', None),\n",
    "        'old_image_url': item.get('image_url'),\n",
    "        'old_image_thumbnail_url': item.get('image_thumbnail_url'),\n",
    "    })\n",
    "df_institutions_wikidata_ids = pd.DataFrame(data)"
   ]
  },
  {
   "cell_type": "code",
   "execution_count": 6,
   "metadata": {},
   "outputs": [
    {
     "data": {
      "text/plain": [
       "False    20569\n",
       "True     81996\n",
       "Name: wikidata_id, dtype: int64"
      ]
     },
     "execution_count": 6,
     "metadata": {},
     "output_type": "execute_result"
    }
   ],
   "source": [
    "df_institutions_wikidata_ids['wikidata_id'].isna().value_counts().sort_index()"
   ]
  },
  {
   "cell_type": "code",
   "execution_count": 7,
   "metadata": {},
   "outputs": [
    {
     "name": "stdout",
     "output_type": "stream",
     "text": [
      "collected 21269 records using 69 api calls\n"
     ]
    }
   ],
   "source": [
    "url = 'https://query.wikidata.org/sparql'\n",
    "wikidata_ids = df_institutions_wikidata_ids['wikidata_id'].dropna().apply(lambda x: x.split('/')[-1])\n",
    "size = 300\n",
    "loop_index = 0\n",
    "wikidata_results = []\n",
    "for list_index in range(0, len(wikidata_ids), size):\n",
    "    subset = wikidata_ids.iloc[list_index:list_index+size]\n",
    "    wikidata_ids_str = \" \".join([f\"wd:{item}\" for item in subset.values])\n",
    "    query = f\"\"\"\n",
    "    SELECT ?item ?logoImage ?image WHERE {{\n",
    "      VALUES ?item {{ {wikidata_ids_str} }}\n",
    "      OPTIONAL {{?item wdt:P154 ?logoImage}}\n",
    "      OPTIONAL {{?item wdt:P18 ?image}}\n",
    "    }}\n",
    "    \"\"\"\n",
    "    r = requests.get(url, params = {'format': 'json', 'query': query})\n",
    "    this_wikidata_results = r.json()\n",
    "    wikidata_results.extend(this_wikidata_results['results']['bindings'])\n",
    "    loop_index += 1\n",
    "    time.sleep(1)\n",
    "print(f\"collected {len(wikidata_results)} records using {loop_index} api calls\")"
   ]
  },
  {
   "cell_type": "code",
   "execution_count": 8,
   "metadata": {},
   "outputs": [],
   "source": [
    "data = []\n",
    "for item in wikidata_results:\n",
    "    logo_image = item['logoImage']['value'] if 'logoImage' in item else None\n",
    "    image = item['image']['value'] if 'image' in item else None\n",
    "    data.append({\n",
    "        'wikidata_id': item['item']['value'],\n",
    "        'logoImageUri': logo_image,\n",
    "        'imageUri': image,\n",
    "    })\n",
    "df_institutions_wikidata_images = pd.DataFrame(data).drop_duplicates()"
   ]
  },
  {
   "cell_type": "code",
   "execution_count": 9,
   "metadata": {},
   "outputs": [],
   "source": [
    "# df_institutions_wikidata_images['wikidata_id'] = df_institutions_wikidata_images['wikidata_id'].str.replace('http://', 'https://')"
   ]
  },
  {
   "cell_type": "code",
   "execution_count": 10,
   "metadata": {},
   "outputs": [],
   "source": [
    "df_institutions_wikidata_ids['wikidata_uid'] = df_institutions_wikidata_ids['wikidata_id'].apply(lambda x: x.split('/')[-1] if x is not None else None)\n",
    "df_institutions_wikidata_images['wikidata_uid'] = df_institutions_wikidata_images['wikidata_id'].apply(lambda x: x.split('/')[-1] if x is not None else None)"
   ]
  },
  {
   "cell_type": "code",
   "execution_count": 11,
   "metadata": {},
   "outputs": [],
   "source": [
    "df = df_institutions_wikidata_ids.merge(df_institutions_wikidata_images.drop(columns=['wikidata_id']), how='left', on='wikidata_uid')"
   ]
  },
  {
   "cell_type": "code",
   "execution_count": 12,
   "metadata": {},
   "outputs": [
    {
     "data": {
      "text/plain": [
       "False    93661\n",
       "True      9604\n",
       "Name: imageUri, dtype: int64"
      ]
     },
     "execution_count": 12,
     "metadata": {},
     "output_type": "execute_result"
    }
   ],
   "source": [
    "df['imageUri'].notna().value_counts().sort_index()"
   ]
  },
  {
   "cell_type": "markdown",
   "metadata": {},
   "source": [
    "Instructions on https://commons.wikimedia.org/wiki/Commons:Reusing_content_outside_Wikimedia/technical"
   ]
  },
  {
   "cell_type": "code",
   "execution_count": 13,
   "metadata": {},
   "outputs": [],
   "source": [
    "url_image_template = \"https://commons.wikimedia.org/w/index.php?title=Special:Redirect/file/{filename}\"\n",
    "url_thumbnail_template = url_image_template + \"&width=300\""
   ]
  },
  {
   "cell_type": "code",
   "execution_count": 14,
   "metadata": {},
   "outputs": [],
   "source": [
    "data = []\n",
    "for _, row in df.dropna(subset='wikidata_id').iterrows():\n",
    "    if not pd.isna(row['logoImageUri']):\n",
    "        img_uri = row['logoImageUri']\n",
    "        wikidata_prop = 'logo image'\n",
    "    elif not pd.isna(row['imageUri']):\n",
    "        img_uri = row['imageUri']\n",
    "        wikidata_prop = 'image'\n",
    "    else:\n",
    "        img_uri = None\n",
    "        wikidata_prop = None\n",
    "    if img_uri:\n",
    "        img_uri = img_uri.split('/')[-1]\n",
    "        img_hotlink = url_image_template.format(filename=img_uri)\n",
    "        img_thumbnail_hotlink = url_thumbnail_template.format(filename=img_uri)\n",
    "        data.append({\n",
    "            'openalex_id': row['openalex_id'],\n",
    "            'wikidata_id': row['wikidata_id'],\n",
    "            'image_url': img_hotlink,\n",
    "            'thumbnail_url': img_thumbnail_hotlink,\n",
    "            'wikidata_prop': wikidata_prop,\n",
    "            'old_image_url': row['old_image_url'],\n",
    "            'old_image_thumbnail_url': row['old_image_thumbnail_url'],\n",
    "        })\n",
    "df_out = pd.DataFrame(data).drop_duplicates()"
   ]
  },
  {
   "cell_type": "code",
   "execution_count": 15,
   "metadata": {},
   "outputs": [
    {
     "data": {
      "text/html": [
       "<div>\n",
       "<style scoped>\n",
       "    .dataframe tbody tr th:only-of-type {\n",
       "        vertical-align: middle;\n",
       "    }\n",
       "\n",
       "    .dataframe tbody tr th {\n",
       "        vertical-align: top;\n",
       "    }\n",
       "\n",
       "    .dataframe thead th {\n",
       "        text-align: right;\n",
       "    }\n",
       "</style>\n",
       "<table border=\"1\" class=\"dataframe\">\n",
       "  <thead>\n",
       "    <tr style=\"text-align: right;\">\n",
       "      <th></th>\n",
       "      <th>openalex_id</th>\n",
       "      <th>wikidata_id_x</th>\n",
       "      <th>old_image_url_x</th>\n",
       "      <th>old_image_thumbnail_url_x</th>\n",
       "      <th>wikidata_uid</th>\n",
       "      <th>wikidata_id_y</th>\n",
       "      <th>image_url</th>\n",
       "      <th>thumbnail_url</th>\n",
       "      <th>wikidata_prop</th>\n",
       "      <th>old_image_url_y</th>\n",
       "      <th>old_image_thumbnail_url_y</th>\n",
       "    </tr>\n",
       "  </thead>\n",
       "  <tbody>\n",
       "    <tr>\n",
       "      <th>0</th>\n",
       "      <td>https://openalex.org/I27837315</td>\n",
       "      <td>https://www.wikidata.org/wiki/Q230492</td>\n",
       "      <td>https://upload.wikimedia.org/wikipedia/commons...</td>\n",
       "      <td>https://upload.wikimedia.org/wikipedia/commons...</td>\n",
       "      <td>Q230492</td>\n",
       "      <td>https://www.wikidata.org/wiki/Q230492</td>\n",
       "      <td>https://commons.wikimedia.org/w/index.php?titl...</td>\n",
       "      <td>https://commons.wikimedia.org/w/index.php?titl...</td>\n",
       "      <td>logo image</td>\n",
       "      <td>https://upload.wikimedia.org/wikipedia/commons...</td>\n",
       "      <td>https://upload.wikimedia.org/wikipedia/commons...</td>\n",
       "    </tr>\n",
       "    <tr>\n",
       "      <th>1</th>\n",
       "      <td>https://openalex.org/I201448701</td>\n",
       "      <td>https://www.wikidata.org/wiki/Q219563</td>\n",
       "      <td>https://upload.wikimedia.org/wikipedia/en/5/58...</td>\n",
       "      <td>https://upload.wikimedia.org/wikipedia/en/thum...</td>\n",
       "      <td>Q219563</td>\n",
       "      <td>https://www.wikidata.org/wiki/Q219563</td>\n",
       "      <td>https://commons.wikimedia.org/w/index.php?titl...</td>\n",
       "      <td>https://commons.wikimedia.org/w/index.php?titl...</td>\n",
       "      <td>logo image</td>\n",
       "      <td>https://upload.wikimedia.org/wikipedia/en/5/58...</td>\n",
       "      <td>https://upload.wikimedia.org/wikipedia/en/thum...</td>\n",
       "    </tr>\n",
       "    <tr>\n",
       "      <th>2</th>\n",
       "      <td>https://openalex.org/I97018004</td>\n",
       "      <td>https://www.wikidata.org/wiki/Q41506</td>\n",
       "      <td>https://upload.wikimedia.org/wikipedia/en/b/b7...</td>\n",
       "      <td>https://upload.wikimedia.org/wikipedia/en/thum...</td>\n",
       "      <td>Q41506</td>\n",
       "      <td>https://www.wikidata.org/wiki/Q41506</td>\n",
       "      <td>https://commons.wikimedia.org/w/index.php?titl...</td>\n",
       "      <td>https://commons.wikimedia.org/w/index.php?titl...</td>\n",
       "      <td>logo image</td>\n",
       "      <td>https://upload.wikimedia.org/wikipedia/en/b/b7...</td>\n",
       "      <td>https://upload.wikimedia.org/wikipedia/en/thum...</td>\n",
       "    </tr>\n",
       "    <tr>\n",
       "      <th>3</th>\n",
       "      <td>https://openalex.org/I74801974</td>\n",
       "      <td>https://www.wikidata.org/wiki/Q7842</td>\n",
       "      <td>https://upload.wikimedia.org/wikipedia/commons...</td>\n",
       "      <td>https://upload.wikimedia.org/wikipedia/commons...</td>\n",
       "      <td>Q7842</td>\n",
       "      <td>https://www.wikidata.org/wiki/Q7842</td>\n",
       "      <td>https://commons.wikimedia.org/w/index.php?titl...</td>\n",
       "      <td>https://commons.wikimedia.org/w/index.php?titl...</td>\n",
       "      <td>logo image</td>\n",
       "      <td>https://upload.wikimedia.org/wikipedia/commons...</td>\n",
       "      <td>https://upload.wikimedia.org/wikipedia/commons...</td>\n",
       "    </tr>\n",
       "    <tr>\n",
       "      <th>4</th>\n",
       "      <td>https://openalex.org/I185261750</td>\n",
       "      <td>https://www.wikidata.org/wiki/Q180865</td>\n",
       "      <td>https://upload.wikimedia.org/wikipedia/en/0/04...</td>\n",
       "      <td>https://upload.wikimedia.org/wikipedia/en/thum...</td>\n",
       "      <td>Q180865</td>\n",
       "      <td>https://www.wikidata.org/wiki/Q180865</td>\n",
       "      <td>https://commons.wikimedia.org/w/index.php?titl...</td>\n",
       "      <td>https://commons.wikimedia.org/w/index.php?titl...</td>\n",
       "      <td>image</td>\n",
       "      <td>https://upload.wikimedia.org/wikipedia/en/0/04...</td>\n",
       "      <td>https://upload.wikimedia.org/wikipedia/en/thum...</td>\n",
       "    </tr>\n",
       "    <tr>\n",
       "      <th>...</th>\n",
       "      <td>...</td>\n",
       "      <td>...</td>\n",
       "      <td>...</td>\n",
       "      <td>...</td>\n",
       "      <td>...</td>\n",
       "      <td>...</td>\n",
       "      <td>...</td>\n",
       "      <td>...</td>\n",
       "      <td>...</td>\n",
       "      <td>...</td>\n",
       "      <td>...</td>\n",
       "    </tr>\n",
       "    <tr>\n",
       "      <th>23879</th>\n",
       "      <td>https://openalex.org/I4210166871</td>\n",
       "      <td>None</td>\n",
       "      <td>https://upload.wikimedia.org/wikipedia/commons...</td>\n",
       "      <td>https://upload.wikimedia.org/wikipedia/commons...</td>\n",
       "      <td>None</td>\n",
       "      <td>NaN</td>\n",
       "      <td>NaN</td>\n",
       "      <td>NaN</td>\n",
       "      <td>NaN</td>\n",
       "      <td>NaN</td>\n",
       "      <td>NaN</td>\n",
       "    </tr>\n",
       "    <tr>\n",
       "      <th>23880</th>\n",
       "      <td>https://openalex.org/I4210166911</td>\n",
       "      <td>None</td>\n",
       "      <td>https://upload.wikimedia.org/wikipedia/commons...</td>\n",
       "      <td>https://upload.wikimedia.org/wikipedia/commons...</td>\n",
       "      <td>None</td>\n",
       "      <td>NaN</td>\n",
       "      <td>NaN</td>\n",
       "      <td>NaN</td>\n",
       "      <td>NaN</td>\n",
       "      <td>NaN</td>\n",
       "      <td>NaN</td>\n",
       "    </tr>\n",
       "    <tr>\n",
       "      <th>23881</th>\n",
       "      <td>https://openalex.org/I4210167040</td>\n",
       "      <td>None</td>\n",
       "      <td>https://upload.wikimedia.org/wikipedia/en/c/cb...</td>\n",
       "      <td>https://upload.wikimedia.org/wikipedia/en/thum...</td>\n",
       "      <td>None</td>\n",
       "      <td>NaN</td>\n",
       "      <td>NaN</td>\n",
       "      <td>NaN</td>\n",
       "      <td>NaN</td>\n",
       "      <td>NaN</td>\n",
       "      <td>NaN</td>\n",
       "    </tr>\n",
       "    <tr>\n",
       "      <th>23882</th>\n",
       "      <td>https://openalex.org/I4210167158</td>\n",
       "      <td>None</td>\n",
       "      <td>https://upload.wikimedia.org/wikipedia/commons...</td>\n",
       "      <td>https://upload.wikimedia.org/wikipedia/commons...</td>\n",
       "      <td>None</td>\n",
       "      <td>NaN</td>\n",
       "      <td>NaN</td>\n",
       "      <td>NaN</td>\n",
       "      <td>NaN</td>\n",
       "      <td>NaN</td>\n",
       "      <td>NaN</td>\n",
       "    </tr>\n",
       "    <tr>\n",
       "      <th>23883</th>\n",
       "      <td>https://openalex.org/I4210167290</td>\n",
       "      <td>None</td>\n",
       "      <td>https://upload.wikimedia.org/wikipedia/commons...</td>\n",
       "      <td>https://upload.wikimedia.org/wikipedia/commons...</td>\n",
       "      <td>None</td>\n",
       "      <td>NaN</td>\n",
       "      <td>NaN</td>\n",
       "      <td>NaN</td>\n",
       "      <td>NaN</td>\n",
       "      <td>NaN</td>\n",
       "      <td>NaN</td>\n",
       "    </tr>\n",
       "  </tbody>\n",
       "</table>\n",
       "<p>23884 rows × 11 columns</p>\n",
       "</div>"
      ],
      "text/plain": [
       "                            openalex_id  \\\n",
       "0        https://openalex.org/I27837315   \n",
       "1       https://openalex.org/I201448701   \n",
       "2        https://openalex.org/I97018004   \n",
       "3        https://openalex.org/I74801974   \n",
       "4       https://openalex.org/I185261750   \n",
       "...                                 ...   \n",
       "23879  https://openalex.org/I4210166871   \n",
       "23880  https://openalex.org/I4210166911   \n",
       "23881  https://openalex.org/I4210167040   \n",
       "23882  https://openalex.org/I4210167158   \n",
       "23883  https://openalex.org/I4210167290   \n",
       "\n",
       "                               wikidata_id_x  \\\n",
       "0      https://www.wikidata.org/wiki/Q230492   \n",
       "1      https://www.wikidata.org/wiki/Q219563   \n",
       "2       https://www.wikidata.org/wiki/Q41506   \n",
       "3        https://www.wikidata.org/wiki/Q7842   \n",
       "4      https://www.wikidata.org/wiki/Q180865   \n",
       "...                                      ...   \n",
       "23879                                   None   \n",
       "23880                                   None   \n",
       "23881                                   None   \n",
       "23882                                   None   \n",
       "23883                                   None   \n",
       "\n",
       "                                         old_image_url_x  \\\n",
       "0      https://upload.wikimedia.org/wikipedia/commons...   \n",
       "1      https://upload.wikimedia.org/wikipedia/en/5/58...   \n",
       "2      https://upload.wikimedia.org/wikipedia/en/b/b7...   \n",
       "3      https://upload.wikimedia.org/wikipedia/commons...   \n",
       "4      https://upload.wikimedia.org/wikipedia/en/0/04...   \n",
       "...                                                  ...   \n",
       "23879  https://upload.wikimedia.org/wikipedia/commons...   \n",
       "23880  https://upload.wikimedia.org/wikipedia/commons...   \n",
       "23881  https://upload.wikimedia.org/wikipedia/en/c/cb...   \n",
       "23882  https://upload.wikimedia.org/wikipedia/commons...   \n",
       "23883  https://upload.wikimedia.org/wikipedia/commons...   \n",
       "\n",
       "                               old_image_thumbnail_url_x wikidata_uid  \\\n",
       "0      https://upload.wikimedia.org/wikipedia/commons...      Q230492   \n",
       "1      https://upload.wikimedia.org/wikipedia/en/thum...      Q219563   \n",
       "2      https://upload.wikimedia.org/wikipedia/en/thum...       Q41506   \n",
       "3      https://upload.wikimedia.org/wikipedia/commons...        Q7842   \n",
       "4      https://upload.wikimedia.org/wikipedia/en/thum...      Q180865   \n",
       "...                                                  ...          ...   \n",
       "23879  https://upload.wikimedia.org/wikipedia/commons...         None   \n",
       "23880  https://upload.wikimedia.org/wikipedia/commons...         None   \n",
       "23881  https://upload.wikimedia.org/wikipedia/en/thum...         None   \n",
       "23882  https://upload.wikimedia.org/wikipedia/commons...         None   \n",
       "23883  https://upload.wikimedia.org/wikipedia/commons...         None   \n",
       "\n",
       "                               wikidata_id_y  \\\n",
       "0      https://www.wikidata.org/wiki/Q230492   \n",
       "1      https://www.wikidata.org/wiki/Q219563   \n",
       "2       https://www.wikidata.org/wiki/Q41506   \n",
       "3        https://www.wikidata.org/wiki/Q7842   \n",
       "4      https://www.wikidata.org/wiki/Q180865   \n",
       "...                                      ...   \n",
       "23879                                    NaN   \n",
       "23880                                    NaN   \n",
       "23881                                    NaN   \n",
       "23882                                    NaN   \n",
       "23883                                    NaN   \n",
       "\n",
       "                                               image_url  \\\n",
       "0      https://commons.wikimedia.org/w/index.php?titl...   \n",
       "1      https://commons.wikimedia.org/w/index.php?titl...   \n",
       "2      https://commons.wikimedia.org/w/index.php?titl...   \n",
       "3      https://commons.wikimedia.org/w/index.php?titl...   \n",
       "4      https://commons.wikimedia.org/w/index.php?titl...   \n",
       "...                                                  ...   \n",
       "23879                                                NaN   \n",
       "23880                                                NaN   \n",
       "23881                                                NaN   \n",
       "23882                                                NaN   \n",
       "23883                                                NaN   \n",
       "\n",
       "                                           thumbnail_url wikidata_prop  \\\n",
       "0      https://commons.wikimedia.org/w/index.php?titl...    logo image   \n",
       "1      https://commons.wikimedia.org/w/index.php?titl...    logo image   \n",
       "2      https://commons.wikimedia.org/w/index.php?titl...    logo image   \n",
       "3      https://commons.wikimedia.org/w/index.php?titl...    logo image   \n",
       "4      https://commons.wikimedia.org/w/index.php?titl...         image   \n",
       "...                                                  ...           ...   \n",
       "23879                                                NaN           NaN   \n",
       "23880                                                NaN           NaN   \n",
       "23881                                                NaN           NaN   \n",
       "23882                                                NaN           NaN   \n",
       "23883                                                NaN           NaN   \n",
       "\n",
       "                                         old_image_url_y  \\\n",
       "0      https://upload.wikimedia.org/wikipedia/commons...   \n",
       "1      https://upload.wikimedia.org/wikipedia/en/5/58...   \n",
       "2      https://upload.wikimedia.org/wikipedia/en/b/b7...   \n",
       "3      https://upload.wikimedia.org/wikipedia/commons...   \n",
       "4      https://upload.wikimedia.org/wikipedia/en/0/04...   \n",
       "...                                                  ...   \n",
       "23879                                                NaN   \n",
       "23880                                                NaN   \n",
       "23881                                                NaN   \n",
       "23882                                                NaN   \n",
       "23883                                                NaN   \n",
       "\n",
       "                               old_image_thumbnail_url_y  \n",
       "0      https://upload.wikimedia.org/wikipedia/commons...  \n",
       "1      https://upload.wikimedia.org/wikipedia/en/thum...  \n",
       "2      https://upload.wikimedia.org/wikipedia/en/thum...  \n",
       "3      https://upload.wikimedia.org/wikipedia/commons...  \n",
       "4      https://upload.wikimedia.org/wikipedia/en/thum...  \n",
       "...                                                  ...  \n",
       "23879                                                NaN  \n",
       "23880                                                NaN  \n",
       "23881                                                NaN  \n",
       "23882                                                NaN  \n",
       "23883                                                NaN  \n",
       "\n",
       "[23884 rows x 11 columns]"
      ]
     },
     "execution_count": 15,
     "metadata": {},
     "output_type": "execute_result"
    }
   ],
   "source": [
    "_df = df_institutions_wikidata_ids.dropna(subset=['old_image_url'])\n",
    "_df = _df.merge(df_out, how='left', on='openalex_id')\n",
    "_df"
   ]
  },
  {
   "cell_type": "code",
   "execution_count": 16,
   "metadata": {},
   "outputs": [
    {
     "data": {
      "text/html": [
       "<div>\n",
       "<style scoped>\n",
       "    .dataframe tbody tr th:only-of-type {\n",
       "        vertical-align: middle;\n",
       "    }\n",
       "\n",
       "    .dataframe tbody tr th {\n",
       "        vertical-align: top;\n",
       "    }\n",
       "\n",
       "    .dataframe thead th {\n",
       "        text-align: right;\n",
       "    }\n",
       "</style>\n",
       "<table border=\"1\" class=\"dataframe\">\n",
       "  <thead>\n",
       "    <tr style=\"text-align: right;\">\n",
       "      <th></th>\n",
       "      <th>openalex_id</th>\n",
       "      <th>wikidata_id</th>\n",
       "      <th>image_url</th>\n",
       "      <th>thumbnail_url</th>\n",
       "      <th>wikidata_prop</th>\n",
       "      <th>old_image_url</th>\n",
       "      <th>old_image_thumbnail_url</th>\n",
       "    </tr>\n",
       "  </thead>\n",
       "  <tbody>\n",
       "    <tr>\n",
       "      <th>24</th>\n",
       "      <td>https://openalex.org/I45129253</td>\n",
       "      <td>https://www.wikidata.org/wiki/Q193196</td>\n",
       "      <td>https://commons.wikimedia.org/w/index.php?titl...</td>\n",
       "      <td>https://commons.wikimedia.org/w/index.php?titl...</td>\n",
       "      <td>logo image</td>\n",
       "      <td>None</td>\n",
       "      <td>None</td>\n",
       "    </tr>\n",
       "    <tr>\n",
       "      <th>126</th>\n",
       "      <td>https://openalex.org/I43439940</td>\n",
       "      <td>https://www.wikidata.org/wiki/Q76473</td>\n",
       "      <td>https://commons.wikimedia.org/w/index.php?titl...</td>\n",
       "      <td>https://commons.wikimedia.org/w/index.php?titl...</td>\n",
       "      <td>logo image</td>\n",
       "      <td>None</td>\n",
       "      <td>None</td>\n",
       "    </tr>\n",
       "    <tr>\n",
       "      <th>128</th>\n",
       "      <td>https://openalex.org/I154526488</td>\n",
       "      <td>https://www.wikidata.org/wiki/Q1474517</td>\n",
       "      <td>https://commons.wikimedia.org/w/index.php?titl...</td>\n",
       "      <td>https://commons.wikimedia.org/w/index.php?titl...</td>\n",
       "      <td>logo image</td>\n",
       "      <td>None</td>\n",
       "      <td>None</td>\n",
       "    </tr>\n",
       "    <tr>\n",
       "      <th>134</th>\n",
       "      <td>https://openalex.org/I71999127</td>\n",
       "      <td>https://www.wikidata.org/wiki/Q219615</td>\n",
       "      <td>https://commons.wikimedia.org/w/index.php?titl...</td>\n",
       "      <td>https://commons.wikimedia.org/w/index.php?titl...</td>\n",
       "      <td>logo image</td>\n",
       "      <td>None</td>\n",
       "      <td>None</td>\n",
       "    </tr>\n",
       "    <tr>\n",
       "      <th>166</th>\n",
       "      <td>https://openalex.org/I2799853436</td>\n",
       "      <td>https://www.wikidata.org/wiki/Q858729</td>\n",
       "      <td>https://commons.wikimedia.org/w/index.php?titl...</td>\n",
       "      <td>https://commons.wikimedia.org/w/index.php?titl...</td>\n",
       "      <td>logo image</td>\n",
       "      <td>None</td>\n",
       "      <td>None</td>\n",
       "    </tr>\n",
       "    <tr>\n",
       "      <th>...</th>\n",
       "      <td>...</td>\n",
       "      <td>...</td>\n",
       "      <td>...</td>\n",
       "      <td>...</td>\n",
       "      <td>...</td>\n",
       "      <td>...</td>\n",
       "      <td>...</td>\n",
       "    </tr>\n",
       "    <tr>\n",
       "      <th>11470</th>\n",
       "      <td>https://openalex.org/I3129379580</td>\n",
       "      <td>https://www.wikidata.org/wiki/Q5247011</td>\n",
       "      <td>https://commons.wikimedia.org/w/index.php?titl...</td>\n",
       "      <td>https://commons.wikimedia.org/w/index.php?titl...</td>\n",
       "      <td>image</td>\n",
       "      <td>None</td>\n",
       "      <td>None</td>\n",
       "    </tr>\n",
       "    <tr>\n",
       "      <th>11473</th>\n",
       "      <td>https://openalex.org/I4200000001</td>\n",
       "      <td>https://www.wikidata.org/wiki/Q16996711</td>\n",
       "      <td>https://commons.wikimedia.org/w/index.php?titl...</td>\n",
       "      <td>https://commons.wikimedia.org/w/index.php?titl...</td>\n",
       "      <td>logo image</td>\n",
       "      <td>None</td>\n",
       "      <td>None</td>\n",
       "    </tr>\n",
       "    <tr>\n",
       "      <th>11484</th>\n",
       "      <td>https://openalex.org/I2802840424</td>\n",
       "      <td>https://www.wikidata.org/wiki/Q14917275</td>\n",
       "      <td>https://commons.wikimedia.org/w/index.php?titl...</td>\n",
       "      <td>https://commons.wikimedia.org/w/index.php?titl...</td>\n",
       "      <td>image</td>\n",
       "      <td>None</td>\n",
       "      <td>None</td>\n",
       "    </tr>\n",
       "    <tr>\n",
       "      <th>11486</th>\n",
       "      <td>https://openalex.org/I2885927285</td>\n",
       "      <td>https://www.wikidata.org/wiki/Q7756788</td>\n",
       "      <td>https://commons.wikimedia.org/w/index.php?titl...</td>\n",
       "      <td>https://commons.wikimedia.org/w/index.php?titl...</td>\n",
       "      <td>image</td>\n",
       "      <td>None</td>\n",
       "      <td>None</td>\n",
       "    </tr>\n",
       "    <tr>\n",
       "      <th>11491</th>\n",
       "      <td>https://openalex.org/I3130264642</td>\n",
       "      <td>https://www.wikidata.org/wiki/Q1916337</td>\n",
       "      <td>https://commons.wikimedia.org/w/index.php?titl...</td>\n",
       "      <td>https://commons.wikimedia.org/w/index.php?titl...</td>\n",
       "      <td>logo image</td>\n",
       "      <td>None</td>\n",
       "      <td>None</td>\n",
       "    </tr>\n",
       "  </tbody>\n",
       "</table>\n",
       "<p>1535 rows × 7 columns</p>\n",
       "</div>"
      ],
      "text/plain": [
       "                            openalex_id  \\\n",
       "24       https://openalex.org/I45129253   \n",
       "126      https://openalex.org/I43439940   \n",
       "128     https://openalex.org/I154526488   \n",
       "134      https://openalex.org/I71999127   \n",
       "166    https://openalex.org/I2799853436   \n",
       "...                                 ...   \n",
       "11470  https://openalex.org/I3129379580   \n",
       "11473  https://openalex.org/I4200000001   \n",
       "11484  https://openalex.org/I2802840424   \n",
       "11486  https://openalex.org/I2885927285   \n",
       "11491  https://openalex.org/I3130264642   \n",
       "\n",
       "                                   wikidata_id  \\\n",
       "24       https://www.wikidata.org/wiki/Q193196   \n",
       "126       https://www.wikidata.org/wiki/Q76473   \n",
       "128     https://www.wikidata.org/wiki/Q1474517   \n",
       "134      https://www.wikidata.org/wiki/Q219615   \n",
       "166      https://www.wikidata.org/wiki/Q858729   \n",
       "...                                        ...   \n",
       "11470   https://www.wikidata.org/wiki/Q5247011   \n",
       "11473  https://www.wikidata.org/wiki/Q16996711   \n",
       "11484  https://www.wikidata.org/wiki/Q14917275   \n",
       "11486   https://www.wikidata.org/wiki/Q7756788   \n",
       "11491   https://www.wikidata.org/wiki/Q1916337   \n",
       "\n",
       "                                               image_url  \\\n",
       "24     https://commons.wikimedia.org/w/index.php?titl...   \n",
       "126    https://commons.wikimedia.org/w/index.php?titl...   \n",
       "128    https://commons.wikimedia.org/w/index.php?titl...   \n",
       "134    https://commons.wikimedia.org/w/index.php?titl...   \n",
       "166    https://commons.wikimedia.org/w/index.php?titl...   \n",
       "...                                                  ...   \n",
       "11470  https://commons.wikimedia.org/w/index.php?titl...   \n",
       "11473  https://commons.wikimedia.org/w/index.php?titl...   \n",
       "11484  https://commons.wikimedia.org/w/index.php?titl...   \n",
       "11486  https://commons.wikimedia.org/w/index.php?titl...   \n",
       "11491  https://commons.wikimedia.org/w/index.php?titl...   \n",
       "\n",
       "                                           thumbnail_url wikidata_prop  \\\n",
       "24     https://commons.wikimedia.org/w/index.php?titl...    logo image   \n",
       "126    https://commons.wikimedia.org/w/index.php?titl...    logo image   \n",
       "128    https://commons.wikimedia.org/w/index.php?titl...    logo image   \n",
       "134    https://commons.wikimedia.org/w/index.php?titl...    logo image   \n",
       "166    https://commons.wikimedia.org/w/index.php?titl...    logo image   \n",
       "...                                                  ...           ...   \n",
       "11470  https://commons.wikimedia.org/w/index.php?titl...         image   \n",
       "11473  https://commons.wikimedia.org/w/index.php?titl...    logo image   \n",
       "11484  https://commons.wikimedia.org/w/index.php?titl...         image   \n",
       "11486  https://commons.wikimedia.org/w/index.php?titl...         image   \n",
       "11491  https://commons.wikimedia.org/w/index.php?titl...    logo image   \n",
       "\n",
       "      old_image_url old_image_thumbnail_url  \n",
       "24             None                    None  \n",
       "126            None                    None  \n",
       "128            None                    None  \n",
       "134            None                    None  \n",
       "166            None                    None  \n",
       "...             ...                     ...  \n",
       "11470          None                    None  \n",
       "11473          None                    None  \n",
       "11484          None                    None  \n",
       "11486          None                    None  \n",
       "11491          None                    None  \n",
       "\n",
       "[1535 rows x 7 columns]"
      ]
     },
     "execution_count": 16,
     "metadata": {},
     "output_type": "execute_result"
    }
   ],
   "source": [
    "_df = df_out[df_out['old_image_url'].isna()]\n",
    "_df"
   ]
  },
  {
   "cell_type": "code",
   "execution_count": 17,
   "metadata": {},
   "outputs": [],
   "source": [
    "df_out.to_csv('../output/institutions_image_urls.csv', index=False)"
   ]
  },
  {
   "cell_type": "code",
   "execution_count": null,
   "metadata": {},
   "outputs": [],
   "source": []
  },
  {
   "cell_type": "code",
   "execution_count": null,
   "metadata": {},
   "outputs": [],
   "source": []
  },
  {
   "cell_type": "code",
   "execution_count": 21,
   "metadata": {},
   "outputs": [
    {
     "data": {
      "text/html": [
       "<div>\n",
       "<style scoped>\n",
       "    .dataframe tbody tr th:only-of-type {\n",
       "        vertical-align: middle;\n",
       "    }\n",
       "\n",
       "    .dataframe tbody tr th {\n",
       "        vertical-align: top;\n",
       "    }\n",
       "\n",
       "    .dataframe thead th {\n",
       "        text-align: right;\n",
       "    }\n",
       "</style>\n",
       "<table border=\"1\" class=\"dataframe\">\n",
       "  <thead>\n",
       "    <tr style=\"text-align: right;\">\n",
       "      <th></th>\n",
       "      <th>openalex_id</th>\n",
       "      <th>wikidata_id</th>\n",
       "      <th>image_url</th>\n",
       "      <th>thumbnail_url</th>\n",
       "      <th>wikidata_prop</th>\n",
       "      <th>old_image_url</th>\n",
       "      <th>old_image_thumbnail_url</th>\n",
       "    </tr>\n",
       "  </thead>\n",
       "  <tbody>\n",
       "    <tr>\n",
       "      <th>0</th>\n",
       "      <td>https://openalex.org/I27837315</td>\n",
       "      <td>https://www.wikidata.org/wiki/Q230492</td>\n",
       "      <td>https://commons.wikimedia.org/w/index.php?titl...</td>\n",
       "      <td>https://commons.wikimedia.org/w/index.php?titl...</td>\n",
       "      <td>logo image</td>\n",
       "      <td>https://upload.wikimedia.org/wikipedia/commons...</td>\n",
       "      <td>https://upload.wikimedia.org/wikipedia/commons...</td>\n",
       "    </tr>\n",
       "    <tr>\n",
       "      <th>1</th>\n",
       "      <td>https://openalex.org/I201448701</td>\n",
       "      <td>https://www.wikidata.org/wiki/Q219563</td>\n",
       "      <td>https://commons.wikimedia.org/w/index.php?titl...</td>\n",
       "      <td>https://commons.wikimedia.org/w/index.php?titl...</td>\n",
       "      <td>logo image</td>\n",
       "      <td>https://upload.wikimedia.org/wikipedia/en/5/58...</td>\n",
       "      <td>https://upload.wikimedia.org/wikipedia/en/thum...</td>\n",
       "    </tr>\n",
       "    <tr>\n",
       "      <th>2</th>\n",
       "      <td>https://openalex.org/I97018004</td>\n",
       "      <td>https://www.wikidata.org/wiki/Q41506</td>\n",
       "      <td>https://commons.wikimedia.org/w/index.php?titl...</td>\n",
       "      <td>https://commons.wikimedia.org/w/index.php?titl...</td>\n",
       "      <td>logo image</td>\n",
       "      <td>https://upload.wikimedia.org/wikipedia/en/b/b7...</td>\n",
       "      <td>https://upload.wikimedia.org/wikipedia/en/thum...</td>\n",
       "    </tr>\n",
       "    <tr>\n",
       "      <th>3</th>\n",
       "      <td>https://openalex.org/I74801974</td>\n",
       "      <td>https://www.wikidata.org/wiki/Q7842</td>\n",
       "      <td>https://commons.wikimedia.org/w/index.php?titl...</td>\n",
       "      <td>https://commons.wikimedia.org/w/index.php?titl...</td>\n",
       "      <td>logo image</td>\n",
       "      <td>https://upload.wikimedia.org/wikipedia/commons...</td>\n",
       "      <td>https://upload.wikimedia.org/wikipedia/commons...</td>\n",
       "    </tr>\n",
       "    <tr>\n",
       "      <th>4</th>\n",
       "      <td>https://openalex.org/I185261750</td>\n",
       "      <td>https://www.wikidata.org/wiki/Q180865</td>\n",
       "      <td>https://commons.wikimedia.org/w/index.php?titl...</td>\n",
       "      <td>https://commons.wikimedia.org/w/index.php?titl...</td>\n",
       "      <td>image</td>\n",
       "      <td>https://upload.wikimedia.org/wikipedia/en/0/04...</td>\n",
       "      <td>https://upload.wikimedia.org/wikipedia/en/thum...</td>\n",
       "    </tr>\n",
       "    <tr>\n",
       "      <th>...</th>\n",
       "      <td>...</td>\n",
       "      <td>...</td>\n",
       "      <td>...</td>\n",
       "      <td>...</td>\n",
       "      <td>...</td>\n",
       "      <td>...</td>\n",
       "      <td>...</td>\n",
       "    </tr>\n",
       "    <tr>\n",
       "      <th>11497</th>\n",
       "      <td>https://openalex.org/I3164806601</td>\n",
       "      <td>https://www.wikidata.org/wiki/Q18559626</td>\n",
       "      <td>https://commons.wikimedia.org/w/index.php?titl...</td>\n",
       "      <td>https://commons.wikimedia.org/w/index.php?titl...</td>\n",
       "      <td>logo image</td>\n",
       "      <td>https://upload.wikimedia.org/wikipedia/commons...</td>\n",
       "      <td>https://upload.wikimedia.org/wikipedia/commons...</td>\n",
       "    </tr>\n",
       "    <tr>\n",
       "      <th>11498</th>\n",
       "      <td>https://openalex.org/I2800255267</td>\n",
       "      <td>https://www.wikidata.org/wiki/Q4903727</td>\n",
       "      <td>https://commons.wikimedia.org/w/index.php?titl...</td>\n",
       "      <td>https://commons.wikimedia.org/w/index.php?titl...</td>\n",
       "      <td>image</td>\n",
       "      <td>https://upload.wikimedia.org/wikipedia/commons...</td>\n",
       "      <td>https://upload.wikimedia.org/wikipedia/commons...</td>\n",
       "    </tr>\n",
       "    <tr>\n",
       "      <th>11499</th>\n",
       "      <td>https://openalex.org/I2802218658</td>\n",
       "      <td>https://www.wikidata.org/wiki/Q2300228</td>\n",
       "      <td>https://commons.wikimedia.org/w/index.php?titl...</td>\n",
       "      <td>https://commons.wikimedia.org/w/index.php?titl...</td>\n",
       "      <td>logo image</td>\n",
       "      <td>https://upload.wikimedia.org/wikipedia/commons...</td>\n",
       "      <td>https://upload.wikimedia.org/wikipedia/commons...</td>\n",
       "    </tr>\n",
       "    <tr>\n",
       "      <th>11500</th>\n",
       "      <td>https://openalex.org/I2802915996</td>\n",
       "      <td>https://www.wikidata.org/wiki/Q2916280</td>\n",
       "      <td>https://commons.wikimedia.org/w/index.php?titl...</td>\n",
       "      <td>https://commons.wikimedia.org/w/index.php?titl...</td>\n",
       "      <td>image</td>\n",
       "      <td>https://upload.wikimedia.org/wikipedia/commons...</td>\n",
       "      <td>https://upload.wikimedia.org/wikipedia/commons...</td>\n",
       "    </tr>\n",
       "    <tr>\n",
       "      <th>11501</th>\n",
       "      <td>https://openalex.org/I3130857368</td>\n",
       "      <td>https://www.wikidata.org/wiki/Q2866046</td>\n",
       "      <td>https://commons.wikimedia.org/w/index.php?titl...</td>\n",
       "      <td>https://commons.wikimedia.org/w/index.php?titl...</td>\n",
       "      <td>image</td>\n",
       "      <td>https://upload.wikimedia.org/wikipedia/commons...</td>\n",
       "      <td>https://upload.wikimedia.org/wikipedia/commons...</td>\n",
       "    </tr>\n",
       "  </tbody>\n",
       "</table>\n",
       "<p>9748 rows × 7 columns</p>\n",
       "</div>"
      ],
      "text/plain": [
       "                            openalex_id  \\\n",
       "0        https://openalex.org/I27837315   \n",
       "1       https://openalex.org/I201448701   \n",
       "2        https://openalex.org/I97018004   \n",
       "3        https://openalex.org/I74801974   \n",
       "4       https://openalex.org/I185261750   \n",
       "...                                 ...   \n",
       "11497  https://openalex.org/I3164806601   \n",
       "11498  https://openalex.org/I2800255267   \n",
       "11499  https://openalex.org/I2802218658   \n",
       "11500  https://openalex.org/I2802915996   \n",
       "11501  https://openalex.org/I3130857368   \n",
       "\n",
       "                                   wikidata_id  \\\n",
       "0        https://www.wikidata.org/wiki/Q230492   \n",
       "1        https://www.wikidata.org/wiki/Q219563   \n",
       "2         https://www.wikidata.org/wiki/Q41506   \n",
       "3          https://www.wikidata.org/wiki/Q7842   \n",
       "4        https://www.wikidata.org/wiki/Q180865   \n",
       "...                                        ...   \n",
       "11497  https://www.wikidata.org/wiki/Q18559626   \n",
       "11498   https://www.wikidata.org/wiki/Q4903727   \n",
       "11499   https://www.wikidata.org/wiki/Q2300228   \n",
       "11500   https://www.wikidata.org/wiki/Q2916280   \n",
       "11501   https://www.wikidata.org/wiki/Q2866046   \n",
       "\n",
       "                                               image_url  \\\n",
       "0      https://commons.wikimedia.org/w/index.php?titl...   \n",
       "1      https://commons.wikimedia.org/w/index.php?titl...   \n",
       "2      https://commons.wikimedia.org/w/index.php?titl...   \n",
       "3      https://commons.wikimedia.org/w/index.php?titl...   \n",
       "4      https://commons.wikimedia.org/w/index.php?titl...   \n",
       "...                                                  ...   \n",
       "11497  https://commons.wikimedia.org/w/index.php?titl...   \n",
       "11498  https://commons.wikimedia.org/w/index.php?titl...   \n",
       "11499  https://commons.wikimedia.org/w/index.php?titl...   \n",
       "11500  https://commons.wikimedia.org/w/index.php?titl...   \n",
       "11501  https://commons.wikimedia.org/w/index.php?titl...   \n",
       "\n",
       "                                           thumbnail_url wikidata_prop  \\\n",
       "0      https://commons.wikimedia.org/w/index.php?titl...    logo image   \n",
       "1      https://commons.wikimedia.org/w/index.php?titl...    logo image   \n",
       "2      https://commons.wikimedia.org/w/index.php?titl...    logo image   \n",
       "3      https://commons.wikimedia.org/w/index.php?titl...    logo image   \n",
       "4      https://commons.wikimedia.org/w/index.php?titl...         image   \n",
       "...                                                  ...           ...   \n",
       "11497  https://commons.wikimedia.org/w/index.php?titl...    logo image   \n",
       "11498  https://commons.wikimedia.org/w/index.php?titl...         image   \n",
       "11499  https://commons.wikimedia.org/w/index.php?titl...    logo image   \n",
       "11500  https://commons.wikimedia.org/w/index.php?titl...         image   \n",
       "11501  https://commons.wikimedia.org/w/index.php?titl...         image   \n",
       "\n",
       "                                           old_image_url  \\\n",
       "0      https://upload.wikimedia.org/wikipedia/commons...   \n",
       "1      https://upload.wikimedia.org/wikipedia/en/5/58...   \n",
       "2      https://upload.wikimedia.org/wikipedia/en/b/b7...   \n",
       "3      https://upload.wikimedia.org/wikipedia/commons...   \n",
       "4      https://upload.wikimedia.org/wikipedia/en/0/04...   \n",
       "...                                                  ...   \n",
       "11497  https://upload.wikimedia.org/wikipedia/commons...   \n",
       "11498  https://upload.wikimedia.org/wikipedia/commons...   \n",
       "11499  https://upload.wikimedia.org/wikipedia/commons...   \n",
       "11500  https://upload.wikimedia.org/wikipedia/commons...   \n",
       "11501  https://upload.wikimedia.org/wikipedia/commons...   \n",
       "\n",
       "                                 old_image_thumbnail_url  \n",
       "0      https://upload.wikimedia.org/wikipedia/commons...  \n",
       "1      https://upload.wikimedia.org/wikipedia/en/thum...  \n",
       "2      https://upload.wikimedia.org/wikipedia/en/thum...  \n",
       "3      https://upload.wikimedia.org/wikipedia/commons...  \n",
       "4      https://upload.wikimedia.org/wikipedia/en/thum...  \n",
       "...                                                  ...  \n",
       "11497  https://upload.wikimedia.org/wikipedia/commons...  \n",
       "11498  https://upload.wikimedia.org/wikipedia/commons...  \n",
       "11499  https://upload.wikimedia.org/wikipedia/commons...  \n",
       "11500  https://upload.wikimedia.org/wikipedia/commons...  \n",
       "11501  https://upload.wikimedia.org/wikipedia/commons...  \n",
       "\n",
       "[9748 rows x 7 columns]"
      ]
     },
     "execution_count": 21,
     "metadata": {},
     "output_type": "execute_result"
    }
   ],
   "source": [
    "df_out[df_out['old_image_url'].notna()]"
   ]
  },
  {
   "cell_type": "code",
   "execution_count": null,
   "metadata": {},
   "outputs": [],
   "source": []
  }
 ],
 "metadata": {
  "kernelspec": {
   "display_name": "venv",
   "language": "python",
   "name": "python3"
  },
  "language_info": {
   "codemirror_mode": {
    "name": "ipython",
    "version": 3
   },
   "file_extension": ".py",
   "mimetype": "text/x-python",
   "name": "python",
   "nbconvert_exporter": "python",
   "pygments_lexer": "ipython3",
   "version": "3.10.9"
  },
  "orig_nbformat": 4,
  "vscode": {
   "interpreter": {
    "hash": "a4b297fe2c803cc03796a8c57016aa9836839375b04d1823006b17313bf12e71"
   }
  }
 },
 "nbformat": 4,
 "nbformat_minor": 2
}
